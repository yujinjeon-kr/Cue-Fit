{
 "cells": [
  {
   "cell_type": "code",
   "execution_count": 10,
   "metadata": {},
   "outputs": [],
   "source": [
    "import pandas as pd\n",
    "from selenium import webdriver\n",
    "from selenium.common.exceptions import NoSuchElementException\n",
    "from selenium.webdriver.common.by import By\n",
    "from selenium.webdriver.common.keys import Keys\n",
    "from bs4 import BeautifulSoup\n",
    "import time\n",
    "import re"
   ]
  },
  {
   "cell_type": "code",
   "execution_count": 11,
   "metadata": {},
   "outputs": [],
   "source": [
    "from selenium.webdriver.chrome.service import Service as ChromeService\n",
    "from selenium.webdriver.chrome.options import Options as ChromeOptions\n",
    "\n",
    "chrome_options = ChromeOptions()\n",
    "chrome_options.add_argument(\"--user-agent=Your User Agent String\")\n",
    "\n",
    "driver = webdriver.Chrome('C:/chromedriver.exe', options=chrome_options)\n",
    "driver.implicitly_wait(10)"
   ]
  },
  {
   "cell_type": "code",
   "execution_count": 12,
   "metadata": {},
   "outputs": [],
   "source": [
    "data_kakao = pd.read_excel('kakao_urls_50.xlsx')"
   ]
  },
  {
   "cell_type": "code",
   "execution_count": 13,
   "metadata": {},
   "outputs": [],
   "source": [
    "data_kakao['ReviewCounts'] = data_kakao['ReviewCounts'].replace('후기 없음', '0건')"
   ]
  },
  {
   "cell_type": "code",
   "execution_count": 14,
   "metadata": {},
   "outputs": [],
   "source": [
    "data_kakao['ReviewCounts'] = data_kakao['ReviewCounts'].str.replace('건', '').str.strip().astype(int)"
   ]
  },
  {
   "cell_type": "code",
   "execution_count": 32,
   "metadata": {},
   "outputs": [],
   "source": [
    "#str type으로\n",
    "#data_kakao['ReviewCounts'] = data_kakao['ReviewCounts'].str.replace('건', '')"
   ]
  },
  {
   "cell_type": "code",
   "execution_count": 75,
   "metadata": {},
   "outputs": [
    {
     "data": {
      "text/plain": [
       "numpy.float64"
      ]
     },
     "execution_count": 75,
     "metadata": {},
     "output_type": "execute_result"
    }
   ],
   "source": [
    "# type 확인\n",
    "#type(data_kakao['ReviewCounts'].iloc[1])"
   ]
  },
  {
   "cell_type": "markdown",
   "metadata": {},
   "source": [
    "______"
   ]
  },
  {
   "cell_type": "code",
   "execution_count": null,
   "metadata": {},
   "outputs": [],
   "source": [
    "reviews_list = []\n",
    "\n",
    "for url in data_kakao['Review URL']:\n",
    "    try:\n",
    "        driver.get(url)\n",
    "        time.sleep(2)  # 웹 페이지 로드를 위한 대기 시간\n",
    "\n",
    "        # 더보기 버튼 클릭\n",
    "        while True:\n",
    "            try:\n",
    "                more_button = driver.find_element(By.CSS_SELECTOR, '#mArticle > div.cont_evaluation > div.evaluation_review > a > span.txt_more')\n",
    "                driver.execute_script(\"arguments[0].click();\", more_button)\n",
    "                time.sleep(2)  # '더보기' 버튼 클릭 후 로딩 시간\n",
    "            except NoSuchElementException:\n",
    "                break  # 더 이상 '더보기' 버튼이 없으면 반복 중단\n",
    "\n",
    "        # 리뷰 데이터 파싱\n",
    "        page_source = driver.page_source\n",
    "        soup = BeautifulSoup(page_source, 'html.parser')\n",
    "\n",
    "        # \"txt_comment\" 클래스 안의 모든 <span> 요소 찾기\n",
    "        comment_spans = soup.find_all('p', class_='txt_comment')\n",
    "\n",
    "        for comment in comment_spans:\n",
    "            review = comment.find('span').text\n",
    "            reviews_list.append({'Review URL': url, 'Review': review})\n",
    "\n",
    "    except Exception as e:\n",
    "        print(f'Error while processing {url}: {e}')\n",
    "        reviews_list.append({'Review URL': url, 'Review': 'Error'})\n",
    "\n",
    "# 데이터프레임으로 변환\n",
    "reviews_df = pd.DataFrame(reviews_list)\n",
    "\n",
    "# 엑셀로 저장\n",
    "reviews_df.to_excel('Kakao_reviews_updated.xlsx', index=False)\n",
    "\n",
    "# 브라우저 닫기\n",
    "driver.quit()"
   ]
  },
  {
   "cell_type": "markdown",
   "metadata": {},
   "source": [
    "__________"
   ]
  },
  {
   "cell_type": "code",
   "execution_count": null,
   "metadata": {},
   "outputs": [],
   "source": [
    "reviews_list = []\n",
    "\n",
    "for url in data_kakao['Review URL']:\n",
    "    try:\n",
    "        driver.get(url)\n",
    "        time.sleep(2)  # 웹 페이지 로드를 위한 대기 시간\n",
    "\n",
    "        # 더보기 버튼 클릭\n",
    "        while True:\n",
    "            try:\n",
    "                more_button = driver.find_element(By.CSS_SELECTOR, '#mArticle > div.cont_evaluation > div.evaluation_review > a > span.txt_more')\n",
    "                driver.execute_script(\"arguments[0].click();\", more_button)\n",
    "                time.sleep(2)  # '더보기' 버튼 클릭 후 로딩 시간\n",
    "            except NoSuchElementException:\n",
    "                break  # 더 이상 '더보기' 버튼이 없으면 반복 중단\n",
    "\n",
    "        # 리뷰 데이터 파싱\n",
    "        page_source = driver.page_source\n",
    "        soup = BeautifulSoup(page_source, 'html.parser')\n",
    "\n",
    "        # \"txt_comment\" 클래스 안의 모든 <span> 요소 찾기\n",
    "        comment_spans = soup.find_all('p', class_='txt_comment')\n",
    "\n",
    "        for comment in comment_spans:\n",
    "            review = comment.find('span').text\n",
    "            reviews_list.append({'Review URL': url, 'Review': review})\n",
    "\n",
    "    except Exception as e:\n",
    "        print(f'Error while processing {url}: {e}')\n",
    "        reviews_list.append({'Review URL': url, 'Review': 'Error'})\n",
    "\n",
    "# 데이터프레임으로 변환\n",
    "reviews_df = pd.DataFrame(reviews_list)\n",
    "\n",
    "# 원본 데이터와 리뷰 데이터 병합\n",
    "if reviews_df['Review URL'] == 'Error' :\n",
    "    merged_data = pd.merge(data_kakao,reviews_df,on='Review URL')\n",
    "else :\n",
    "    merged_data = pd.merge(data_kakao, reviews_df, on='Review URL', how='left')\n",
    "\n",
    "# 병합된 데이터를 새로운 엑셀 파일로 저장\n",
    "merged_data.to_excel('Kakao_ReviewData.xlsx', index=False)\n",
    "\n",
    "# 브라우저 닫기\n",
    "driver.quit()"
   ]
  },
  {
   "cell_type": "markdown",
   "metadata": {},
   "source": [
    "________"
   ]
  },
  {
   "cell_type": "code",
   "execution_count": null,
   "metadata": {},
   "outputs": [],
   "source": [
    "reviews_list = []\n",
    "\n",
    "for url in data_kakao['Review URL']:\n",
    "    try:\n",
    "        driver.get(url)\n",
    "        time.sleep(2)  # 웹 페이지 로드를 위한 대기 시간\n",
    "\n",
    "        # 더보기 버튼 클릭\n",
    "        while True:\n",
    "            try:\n",
    "                more_button = driver.find_element(By.CSS_SELECTOR, '#mArticle > div.cont_evaluation > div.evaluation_review > a > span.txt_more')\n",
    "                driver.execute_script(\"arguments[0].click();\", more_button)\n",
    "                time.sleep(2)  # '더보기' 버튼 클릭 후 로딩 시간\n",
    "            except NoSuchElementException:\n",
    "                break  # 더 이상 '더보기' 버튼이 없으면 반복 중단\n",
    "\n",
    "        # 리뷰 데이터 파싱\n",
    "        page_source = driver.page_source\n",
    "        soup = BeautifulSoup(page_source, 'html.parser')\n",
    "\n",
    "        # \"txt_comment\" 클래스 안의 모든 <span> 요소 찾기\n",
    "        comment_spans = soup.find_all('p', class_='txt_comment')\n",
    "\n",
    "        for comment in comment_spans:\n",
    "            review = comment.find('span').text\n",
    "            reviews_list.append({'Review URL': url, 'Review': review})\n",
    "\n",
    "    except Exception as e:\n",
    "        print(f'Error while processing {url}: {e}')\n",
    "        reviews_list.append({'Review URL': url, 'Review': 'Error'})\n",
    "\n",
    "# 데이터프레임으로 변환\n",
    "reviews_df = pd.DataFrame(reviews_list)\n",
    "\n",
    "# 엑셀로 저장\n",
    "reviews_df.to_excel('Kakao_reviews_updated.xlsx', index=False)\n",
    "\n",
    "# 브라우저 닫기\n",
    "driver.quit()"
   ]
  },
  {
   "cell_type": "markdown",
   "metadata": {},
   "source": [
    "_______"
   ]
  },
  {
   "cell_type": "markdown",
   "metadata": {},
   "source": [
    "##### 이걸로 돌리기"
   ]
  },
  {
   "cell_type": "code",
   "execution_count": 20,
   "metadata": {},
   "outputs": [
    {
     "name": "stdout",
     "output_type": "stream",
     "text": [
      "Error while processing https://place.map.kakao.com/404569307#comment: Message: disconnected: unable to send message to renderer\n",
      "  (failed to check if window was closed: disconnected: not connected to DevTools)\n",
      "  (Session info: chrome=119.0.6045.125)\n",
      "\n",
      "Error while processing https://place.map.kakao.com/212020897#comment: Message: disconnected: not connected to DevTools\n",
      "  (failed to check if window was closed: disconnected: not connected to DevTools)\n",
      "  (Session info: chrome=119.0.6045.125)\n",
      "\n",
      "Error while processing https://place.map.kakao.com/1833819344#comment: Message: disconnected: not connected to DevTools\n",
      "  (failed to check if window was closed: disconnected: not connected to DevTools)\n",
      "  (Session info: chrome=119.0.6045.125)\n",
      "\n",
      "Error while processing https://place.map.kakao.com/396981194#comment: Message: disconnected: not connected to DevTools\n",
      "  (failed to check if window was closed: disconnected: not connected to DevTools)\n",
      "  (Session info: chrome=119.0.6045.125)\n",
      "\n"
     ]
    }
   ],
   "source": [
    "reviews_list = []\n",
    "#for url in data_kakao['Review URL']:\n",
    "x = data_kakao['Review URL']\n",
    "y = x.iloc[2:6]\n",
    "for url in y :\n",
    "    try:\n",
    "        driver.get(url)\n",
    "        time.sleep(2)  # 웹 페이지 로드를 위한 대기 시간\n",
    "\n",
    "        # 더보기 버튼 클릭\n",
    "        while True:\n",
    "            try:\n",
    "                more_button = driver.find_element(By.CSS_SELECTOR, '#mArticle > div.cont_evaluation > div.evaluation_review > a > span.txt_more')\n",
    "                driver.execute_script(\"arguments[0].click();\", more_button)\n",
    "                time.sleep(2)  # '더보기' 버튼 클릭 후 로딩 시간\n",
    "            except NoSuchElementException:\n",
    "                break  # 더 이상 '더보기' 버튼이 없으면 반복 중단\n",
    "\n",
    "        # 리뷰 데이터 파싱\n",
    "        page_source = driver.page_source\n",
    "        soup = BeautifulSoup(page_source, 'html.parser')\n",
    "\n",
    "        # \"txt_comment\" 클래스 안의 모든 <span> 요소 찾기\n",
    "        comment_spans = soup.find_all('p', class_='txt_comment')\n",
    "\n",
    "        for comment in comment_spans:\n",
    "            review = comment.find('span').text\n",
    "            reviews_list.append({'Review URL': url, 'Review': review})\n",
    "\n",
    "    except Exception as e:\n",
    "        print(f'Error while processing {url}: {e}')\n",
    "        reviews_list.append({'Review URL': url, 'Review': 'Error'})\n",
    "\n",
    "# 데이터프레임으로 변환\n",
    "reviews_df = pd.DataFrame(reviews_list)\n",
    "\n",
    "# 원본 데이터와 리뷰 데이터 병합\n",
    "kakaoreview_data = pd.merge(data_kakao, reviews_df, on='Review URL', how='left')\n",
    "unique_kakaoreview_data = kakaoreview_data.drop_duplicates()\n",
    "\n",
    "# 병합된 데이터를 새로운 엑셀 파일로 저장\n",
    "unique_kakaoreview_data.to_excel('Kakao_ReviewData_50.xlsx', index=False)\n",
    "\n",
    "# 브라우저 닫기\n",
    "driver.quit()"
   ]
  },
  {
   "cell_type": "code",
   "execution_count": 32,
   "metadata": {},
   "outputs": [
    {
     "data": {
      "text/html": [
       "<div>\n",
       "<style scoped>\n",
       "    .dataframe tbody tr th:only-of-type {\n",
       "        vertical-align: middle;\n",
       "    }\n",
       "\n",
       "    .dataframe tbody tr th {\n",
       "        vertical-align: top;\n",
       "    }\n",
       "\n",
       "    .dataframe thead th {\n",
       "        text-align: right;\n",
       "    }\n",
       "</style>\n",
       "<table border=\"1\" class=\"dataframe\">\n",
       "  <thead>\n",
       "    <tr style=\"text-align: right;\">\n",
       "      <th></th>\n",
       "      <th>Review URL</th>\n",
       "      <th>Review</th>\n",
       "    </tr>\n",
       "  </thead>\n",
       "  <tbody>\n",
       "    <tr>\n",
       "      <th>0</th>\n",
       "      <td>Error</td>\n",
       "      <td>Error</td>\n",
       "    </tr>\n",
       "    <tr>\n",
       "      <th>1</th>\n",
       "      <td>Error</td>\n",
       "      <td>Error</td>\n",
       "    </tr>\n",
       "    <tr>\n",
       "      <th>2</th>\n",
       "      <td>Error</td>\n",
       "      <td>Error</td>\n",
       "    </tr>\n",
       "    <tr>\n",
       "      <th>3</th>\n",
       "      <td>https://place.map.kakao.com/636022918#comment</td>\n",
       "      <td>천국의 계단이라는 계단 머신이 있는데 대박입니다. 14단지 거주자라 위치도 가깝구요...</td>\n",
       "    </tr>\n",
       "    <tr>\n",
       "      <th>4</th>\n",
       "      <td>https://place.map.kakao.com/1886996614#comment</td>\n",
       "      <td>회원이 방문하면 엄청 인사 잘해주시네요....트레이너 선생님들 간단한거 하나 물어봐...</td>\n",
       "    </tr>\n",
       "  </tbody>\n",
       "</table>\n",
       "</div>"
      ],
      "text/plain": [
       "                                       Review URL  \\\n",
       "0                                           Error   \n",
       "1                                           Error   \n",
       "2                                           Error   \n",
       "3   https://place.map.kakao.com/636022918#comment   \n",
       "4  https://place.map.kakao.com/1886996614#comment   \n",
       "\n",
       "                                              Review  \n",
       "0                                              Error  \n",
       "1                                              Error  \n",
       "2                                              Error  \n",
       "3  천국의 계단이라는 계단 머신이 있는데 대박입니다. 14단지 거주자라 위치도 가깝구요...  \n",
       "4  회원이 방문하면 엄청 인사 잘해주시네요....트레이너 선생님들 간단한거 하나 물어봐...  "
      ]
     },
     "execution_count": 32,
     "metadata": {},
     "output_type": "execute_result"
    }
   ],
   "source": [
    "unique_merged_data = merged_data.drop_duplicates()\n",
    "reviews_df.head()"
   ]
  }
 ],
 "metadata": {
  "kernelspec": {
   "display_name": "ML",
   "language": "python",
   "name": "python3"
  },
  "language_info": {
   "codemirror_mode": {
    "name": "ipython",
    "version": 3
   },
   "file_extension": ".py",
   "mimetype": "text/x-python",
   "name": "python",
   "nbconvert_exporter": "python",
   "pygments_lexer": "ipython3",
   "version": "3.11.5"
  }
 },
 "nbformat": 4,
 "nbformat_minor": 2
}
